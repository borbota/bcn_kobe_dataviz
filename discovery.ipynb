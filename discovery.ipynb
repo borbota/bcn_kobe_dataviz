{
 "cells": [
  {
   "cell_type": "code",
   "execution_count": 1,
   "metadata": {},
   "outputs": [],
   "source": [
    "import pandas as pd"
   ]
  },
  {
   "cell_type": "code",
   "execution_count": 6,
   "metadata": {},
   "outputs": [
    {
     "name": "stderr",
     "output_type": "stream",
     "text": [
      "/home/btoth/anaconda3/envs/joreggelt/lib/python3.7/site-packages/IPython/core/interactiveshell.py:3020: DtypeWarning: Columns (43,61,62) have mixed types. Specify dtype option on import or set low_memory=False.\n",
      "  interactivity=interactivity, compiler=compiler, result=result)\n"
     ]
    },
    {
     "data": {
      "text/plain": [
       "id                                                                           31377\n",
       "listing_url                                     https://www.airbnb.com/rooms/31377\n",
       "scrape_id                                                           20190710134514\n",
       "last_scraped                                                            2019-07-10\n",
       "name                                                   Room for 2,  Sagrada Famili\n",
       "                                                               ...                \n",
       "calculated_host_listings_count                                                   3\n",
       "calculated_host_listings_count_entire_homes                                      0\n",
       "calculated_host_listings_count_private_rooms                                     3\n",
       "calculated_host_listings_count_shared_rooms                                      0\n",
       "reviews_per_month                                                             0.08\n",
       "Name: 5, Length: 106, dtype: object"
      ]
     },
     "execution_count": 6,
     "metadata": {},
     "output_type": "execute_result"
    }
   ],
   "source": [
    "ab = pd.read_csv(\"potential_data_sources/airbnb_listings.csv\", sep = \",\")\n",
    "ab.iloc[5]"
   ]
  },
  {
   "cell_type": "code",
   "execution_count": 7,
   "metadata": {},
   "outputs": [
    {
     "data": {
      "text/plain": [
       "array(['id', 'listing_url', 'scrape_id', 'last_scraped', 'name',\n",
       "       'summary', 'space', 'description', 'experiences_offered',\n",
       "       'neighborhood_overview', 'notes', 'transit', 'access',\n",
       "       'interaction', 'house_rules', 'thumbnail_url', 'medium_url',\n",
       "       'picture_url', 'xl_picture_url', 'host_id', 'host_url',\n",
       "       'host_name', 'host_since', 'host_location', 'host_about',\n",
       "       'host_response_time', 'host_response_rate', 'host_acceptance_rate',\n",
       "       'host_is_superhost', 'host_thumbnail_url', 'host_picture_url',\n",
       "       'host_neighbourhood', 'host_listings_count',\n",
       "       'host_total_listings_count', 'host_verifications',\n",
       "       'host_has_profile_pic', 'host_identity_verified', 'street',\n",
       "       'neighbourhood', 'neighbourhood_cleansed',\n",
       "       'neighbourhood_group_cleansed', 'city', 'state', 'zipcode',\n",
       "       'market', 'smart_location', 'country_code', 'country', 'latitude',\n",
       "       'longitude', 'is_location_exact', 'property_type', 'room_type',\n",
       "       'accommodates', 'bathrooms', 'bedrooms', 'beds', 'bed_type',\n",
       "       'amenities', 'square_feet', 'price', 'weekly_price',\n",
       "       'monthly_price', 'security_deposit', 'cleaning_fee',\n",
       "       'guests_included', 'extra_people', 'minimum_nights',\n",
       "       'maximum_nights', 'minimum_minimum_nights',\n",
       "       'maximum_minimum_nights', 'minimum_maximum_nights',\n",
       "       'maximum_maximum_nights', 'minimum_nights_avg_ntm',\n",
       "       'maximum_nights_avg_ntm', 'calendar_updated', 'has_availability',\n",
       "       'availability_30', 'availability_60', 'availability_90',\n",
       "       'availability_365', 'calendar_last_scraped', 'number_of_reviews',\n",
       "       'number_of_reviews_ltm', 'first_review', 'last_review',\n",
       "       'review_scores_rating', 'review_scores_accuracy',\n",
       "       'review_scores_cleanliness', 'review_scores_checkin',\n",
       "       'review_scores_communication', 'review_scores_location',\n",
       "       'review_scores_value', 'requires_license', 'license',\n",
       "       'jurisdiction_names', 'instant_bookable',\n",
       "       'is_business_travel_ready', 'cancellation_policy',\n",
       "       'require_guest_profile_picture',\n",
       "       'require_guest_phone_verification',\n",
       "       'calculated_host_listings_count',\n",
       "       'calculated_host_listings_count_entire_homes',\n",
       "       'calculated_host_listings_count_private_rooms',\n",
       "       'calculated_host_listings_count_shared_rooms', 'reviews_per_month'],\n",
       "      dtype=object)"
      ]
     },
     "execution_count": 7,
     "metadata": {},
     "output_type": "execute_result"
    }
   ],
   "source": [
    "ab.columns.values"
   ]
  },
  {
   "cell_type": "code",
   "execution_count": 12,
   "metadata": {},
   "outputs": [
    {
     "data": {
      "image/png": "[encoded data removed]",
      "text/plain": [
       "<Figure size 432x288 with 1 Axes>"
      ]
     },
     "metadata": {
      "needs_background": "light"
     },
     "output_type": "display_data"
    }
   ],
   "source": [
    "%matplotlib inline\n",
    "ab[\"neighbourhood\"].value_counts().reset_index().plot.hist(bins = 100);"
   ]
  },
  {
   "cell_type": "code",
   "execution_count": 2,
   "metadata": {},
   "outputs": [],
   "source": [
    "fuentes = pd.read_csv(\"potential_data_sources/2019_fonts_beure.csv\")"
   ]
  },
  {
   "cell_type": "code",
   "execution_count": 3,
   "metadata": {},
   "outputs": [
    {
     "data": {
      "text/html": [
       "<div>\n",
       "<style scoped>\n",
       "    .dataframe tbody tr th:only-of-type {\n",
       "        vertical-align: middle;\n",
       "    }\n",
       "\n",
       "    .dataframe tbody tr th {\n",
       "        vertical-align: top;\n",
       "    }\n",
       "\n",
       "    .dataframe thead th {\n",
       "        text-align: right;\n",
       "    }\n",
       "</style>\n",
       "<table border=\"1\" class=\"dataframe\">\n",
       "  <thead>\n",
       "    <tr style=\"text-align: right;\">\n",
       "      <th></th>\n",
       "      <th>CODI</th>\n",
       "      <th>NOM</th>\n",
       "      <th>CARRER</th>\n",
       "      <th>NUMERO_CARRER</th>\n",
       "      <th>X_ETRS89</th>\n",
       "      <th>Y_ETRS89</th>\n",
       "      <th>LATITUD</th>\n",
       "      <th>LONGITUD</th>\n",
       "    </tr>\n",
       "  </thead>\n",
       "  <tbody>\n",
       "    <tr>\n",
       "      <td>0</td>\n",
       "      <td>01-001</td>\n",
       "      <td>porta principal Zoo (Wellington)</td>\n",
       "      <td>C WELLINGTON</td>\n",
       "      <td>21.I</td>\n",
       "      <td>432267.789812</td>\n",
       "      <td>4.582117e+06</td>\n",
       "      <td>41.387735</td>\n",
       "      <td>2.189875</td>\n",
       "    </tr>\n",
       "    <tr>\n",
       "      <td>1</td>\n",
       "      <td>01-004</td>\n",
       "      <td>Sant Carles</td>\n",
       "      <td>C COMTE DE SANTA CLARA</td>\n",
       "      <td>11</td>\n",
       "      <td>432182.782442</td>\n",
       "      <td>4.581165e+06</td>\n",
       "      <td>41.379146</td>\n",
       "      <td>2.188965</td>\n",
       "    </tr>\n",
       "    <tr>\n",
       "      <td>2</td>\n",
       "      <td>01-005</td>\n",
       "      <td>C. Carbonell</td>\n",
       "      <td>C CARBONELL</td>\n",
       "      <td>9</td>\n",
       "      <td>432076.454299</td>\n",
       "      <td>4.581431e+06</td>\n",
       "      <td>41.381533</td>\n",
       "      <td>2.187664</td>\n",
       "    </tr>\n",
       "    <tr>\n",
       "      <td>3</td>\n",
       "      <td>01-006</td>\n",
       "      <td>Balboa</td>\n",
       "      <td>C BALBOA</td>\n",
       "      <td>9</td>\n",
       "      <td>432109.474876</td>\n",
       "      <td>4.581500e+06</td>\n",
       "      <td>41.382160</td>\n",
       "      <td>2.188051</td>\n",
       "    </tr>\n",
       "    <tr>\n",
       "      <td>4</td>\n",
       "      <td>01-007</td>\n",
       "      <td>Ocata</td>\n",
       "      <td>C MARQUESA</td>\n",
       "      <td>13</td>\n",
       "      <td>431886.355670</td>\n",
       "      <td>4.581650e+06</td>\n",
       "      <td>41.383490</td>\n",
       "      <td>2.185366</td>\n",
       "    </tr>\n",
       "  </tbody>\n",
       "</table>\n",
       "</div>"
      ],
      "text/plain": [
       "     CODI                               NOM                  CARRER  \\\n",
       "0  01-001  porta principal Zoo (Wellington)            C WELLINGTON   \n",
       "1  01-004                       Sant Carles  C COMTE DE SANTA CLARA   \n",
       "2  01-005                      C. Carbonell             C CARBONELL   \n",
       "3  01-006                            Balboa                C BALBOA   \n",
       "4  01-007                             Ocata              C MARQUESA   \n",
       "\n",
       "  NUMERO_CARRER       X_ETRS89      Y_ETRS89    LATITUD  LONGITUD  \n",
       "0          21.I  432267.789812  4.582117e+06  41.387735  2.189875  \n",
       "1            11  432182.782442  4.581165e+06  41.379146  2.188965  \n",
       "2             9  432076.454299  4.581431e+06  41.381533  2.187664  \n",
       "3             9  432109.474876  4.581500e+06  41.382160  2.188051  \n",
       "4            13  431886.355670  4.581650e+06  41.383490  2.185366  "
      ]
     },
     "execution_count": 3,
     "metadata": {},
     "output_type": "execute_result"
    }
   ],
   "source": [
    "fuentes.head()"
   ]
  },
  {
   "cell_type": "code",
   "execution_count": null,
   "metadata": {},
   "outputs": [],
   "source": []
  }
 ],
 "metadata": {
  "kernelspec": {
   "display_name": "Python 3",
   "language": "python",
   "name": "python3"
  },
  "language_info": {
   "codemirror_mode": {
    "name": "ipython",
    "version": 3
   },
   "file_extension": ".py",
   "mimetype": "text/x-python",
   "name": "python",
   "nbconvert_exporter": "python",
   "pygments_lexer": "ipython3",
   "version": "3.7.1"
  }
 },
 "nbformat": 4,
 "nbformat_minor": 2
}
